{
  "nbformat": 4,
  "nbformat_minor": 0,
  "metadata": {
    "colab": {
      "name": "week16胡玟惠",
      "provenance": [],
      "authorship_tag": "ABX9TyOZ/tSmPXJQI4VwFOCc00bK",
      "include_colab_link": true
    },
    "kernelspec": {
      "name": "python3",
      "display_name": "Python 3"
    },
    "language_info": {
      "name": "python"
    }
  },
  "cells": [
    {
      "cell_type": "markdown",
      "metadata": {
        "id": "view-in-github",
        "colab_type": "text"
      },
      "source": [
        "<a href=\"https://colab.research.google.com/github/a109010148/Computational-Thinking-and-Program-Design/blob/main/week16%E8%83%A1%E7%8E%9F%E6%83%A0.ipynb\" target=\"_parent\"><img src=\"https://colab.research.google.com/assets/colab-badge.svg\" alt=\"Open In Colab\"/></a>"
      ]
    },
    {
      "cell_type": "code",
      "metadata": {
        "colab": {
          "base_uri": "https://localhost:8080/"
        },
        "id": "IN1_p-xxBpI8",
        "outputId": "1819f621-26fa-4e3c-b60f-770be82bb20a"
      },
      "source": [
        "## 解題2: 先看看周圍，只有兩個指令的冒險旅程\n",
        "## 輸入指令指派給變數do - LOOK\n",
        "do = input(\":: \")\n",
        "## 若輸入LOOK後提示後續指令\n",
        "if do == \"LOOK\": # 要往哪爬\n",
        "  print(\"You are stuck in a sand ditch.\")\n",
        "  print(\"Crawl out LEFT or RIGHT.\")\n",
        "  ## 輸入分支指令I - LEFT/RIGHT\n",
        "  do = input(\":: \")\n",
        "  if do == \"LEFT\": # 輸入LEFT指令的分支\n",
        "    print(\"You see a STARFISH and a CRAB on the sand.\")\n",
        "    print(\"And you're hungry! Which do you eat?\")\n",
        "    ## 輸入指令指派給變數do\n",
        "    do = input(\":: \") # 要吃那個 STARFISH/CRAB\n",
        "    if do == \"STARFISH\":\n",
        "      print(\"Oh no! You immediately don't feel well.\")\n",
        "      print(\"You do not survive :(\")\n",
        "    elif do == \"CRAB\":\n",
        "       print(\"Raw crab should be fine, right? YES or NO.\")\n",
        "       ## 輸入指令指派給變數do\n",
        "       do = input(\":: \") # 要吃生螃蟹嗎？ YES/NO\n",
        "       if do == \"YES\":\n",
        "         print(\"Ok, You eat it raw. Fingers crossed.\")\n",
        "         print(\"Food in your belly helps you see a TREE.\")\n",
        "         ## 輸入指令指派給變數do\n",
        "         do = input(\":: \") #看到一棵樹 TREE\n",
        "         if do == \"TREE\":\n",
        "           print(\"It's a coconut tree! And you're thirsty!\")\n",
        "           print(\"Do you drink the coconut water? YES or NO.\")\n",
        "           ## 輸入指令指派給變數do\n",
        "           do = input(\":: \")# 喝椰子水嗎？YES/NO\n",
        "           if do == \"YES\":\n",
        "             print(\"Oh boy. Coconut water and rawcrab don't mix.\")\n",
        "             print(\"You do not survive :(\")\n",
        "           elif do == \"NO\": \n",
        "             print(\"Good choice.\")\n",
        "             print(\"Look! It's a rescue plane! You made it! \\o/\")\n",
        "           elif do == \"NO\":\n",
        "             print(\"Well, there's nothing else left to eat.\")\n",
        "             print(\"You do not survive :(\")\n",
        "           elif do == \"RIGHT\": # 輸入RIGHT指令的分支(寫else:，或寫if do == \"RIFHT\":，也可以)\n",
        "             print(\"No can do. That side is very slippery.\")\n",
        "             print(\"You fall very far into some weird cavern.\")\n",
        "             print(\"You do not survive :(\")\n",
        "           else: # 輸入提示外的指令，提醒重新輸入\n",
        "             print(\"You can only do actions shown in capital letters.\")\n",
        "             print(\"Try again!\")"
      ],
      "execution_count": 5,
      "outputs": [
        {
          "output_type": "stream",
          "text": [
            ":: LOOK\n",
            "You are stuck in a sand ditch.\n",
            "Crawl out LEFT or RIGHT.\n",
            ":: LEFT\n",
            "You see a STARFISH and a CRAB on the sand.\n",
            "And you're hungry! Which do you eat?\n",
            ":: CRAB\n",
            "Raw crab should be fine, right? YES or NO.\n",
            ":: YES\n",
            "Ok, You eat it raw. Fingers crossed.\n",
            "Food in your belly helps you see a TREE.\n",
            ":: TREE\n",
            "It's a coconut tree! And you're thirsty!\n",
            "Do you drink the coconut water? YES or NO.\n",
            ":: YES\n",
            "Oh boy. Coconut water and rawcrab don't mix.\n",
            "You do not survive :(\n"
          ],
          "name": "stdout"
        }
      ]
    }
  ]
}