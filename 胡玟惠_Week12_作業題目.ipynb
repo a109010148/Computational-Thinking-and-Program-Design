{
  "nbformat": 4,
  "nbformat_minor": 0,
  "metadata": {
    "kernelspec": {
      "display_name": "Python 3",
      "language": "python",
      "name": "python3"
    },
    "language_info": {
      "codemirror_mode": {
        "name": "ipython",
        "version": 3
      },
      "file_extension": ".py",
      "mimetype": "text/x-python",
      "name": "python",
      "nbconvert_exporter": "python",
      "pygments_lexer": "ipython3",
      "version": "3.8.5"
    },
    "colab": {
      "name": "胡玟惠 - Week12 -作業題目.ipynb",
      "provenance": [],
      "collapsed_sections": [],
      "include_colab_link": true
    }
  },
  "cells": [
    {
      "cell_type": "markdown",
      "metadata": {
        "id": "view-in-github",
        "colab_type": "text"
      },
      "source": [
        "<a href=\"https://colab.research.google.com/github/a109010148/Computational-Thinking-and-Program-Design/blob/main/%E8%83%A1%E7%8E%9F%E6%83%A0_Week12_%E4%BD%9C%E6%A5%AD%E9%A1%8C%E7%9B%AE.ipynb\" target=\"_parent\"><img src=\"https://colab.research.google.com/assets/colab-badge.svg\" alt=\"Open In Colab\"/></a>"
      ]
    },
    {
      "cell_type": "markdown",
      "metadata": {
        "id": "KONrhKVGt6yE"
      },
      "source": [
        "**隨堂練習 1：請輸入身分證字號，並判斷尾數是否為奇數?** "
      ]
    },
    {
      "cell_type": "code",
      "metadata": {
        "colab": {
          "base_uri": "https://localhost:8080/"
        },
        "id": "L4gtzD9mt6yG",
        "outputId": "f2682a90-cd95-4e98-a9b4-d4484f676555"
      },
      "source": [
        "## 身分證字號尾數是否為奇數\n",
        "id_last_digit = input(\"請輸入您身分證字號的尾數:\")\n",
        "ans = int(id_last_digit) % 2 == 1\n",
        "print(\"身分證尾數除以2的餘數是否為1:\",ans)"
      ],
      "execution_count": 5,
      "outputs": [
        {
          "output_type": "stream",
          "text": [
            "請輸入您身分證字號的尾數:9\n",
            "身分證尾數除以2的餘數是否為1: True\n"
          ],
          "name": "stdout"
        }
      ]
    },
    {
      "cell_type": "markdown",
      "metadata": {
        "id": "vjnH6rZGt6yH"
      },
      "source": [
        "**回家作業**\n",
        "\n",
        "組長: 王慶禾\n",
        "    \n",
        "組員: 李昱潼 胡玟惠 林維儀\n",
        "    \n",
        "期末報告題目: 在這個網路時代，網際網路充斥在你我的生活裡，如果在上網的過程中，不理解流行用語的用法，可能會導致與人溝通的過程出現問題，錯失交朋友的機會，也可能使人與人之間產生誤會，為了避免此情況發生，製作\"網路流行用語大解析\"程式，來幫助各年齡層的人融入網路世界!!!"
      ]
    }
  ]
}