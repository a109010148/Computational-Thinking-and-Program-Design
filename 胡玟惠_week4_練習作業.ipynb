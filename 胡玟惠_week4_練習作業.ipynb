{
  "nbformat": 4,
  "nbformat_minor": 0,
  "metadata": {
    "colab": {
      "name": "胡玟惠-week4-練習作業",
      "provenance": [],
      "authorship_tag": "ABX9TyOav+Su/LI7/qOyIyBhQwAb",
      "include_colab_link": true
    },
    "kernelspec": {
      "name": "python3",
      "display_name": "Python 3"
    }
  },
  "cells": [
    {
      "cell_type": "markdown",
      "metadata": {
        "id": "view-in-github",
        "colab_type": "text"
      },
      "source": [
        "<a href=\"https://colab.research.google.com/github/a109010148/Computational-Thinking-and-Program-Design/blob/main/%E8%83%A1%E7%8E%9F%E6%83%A0_week4_%E7%B7%B4%E7%BF%92%E4%BD%9C%E6%A5%AD.ipynb\" target=\"_parent\"><img src=\"https://colab.research.google.com/assets/colab-badge.svg\" alt=\"Open In Colab\"/></a>"
      ]
    },
    {
      "cell_type": "code",
      "metadata": {
        "id": "TubQwzfvUv0K"
      },
      "source": [
        ""
      ],
      "execution_count": null,
      "outputs": []
    },
    {
      "cell_type": "markdown",
      "metadata": {
        "id": "dh0m3hQpU9yJ"
      },
      "source": [
        "#隨堂練習\r\n"
      ]
    },
    {
      "cell_type": "markdown",
      "metadata": {
        "id": "6YaqCPibVEaX"
      },
      "source": [
        "#課後練習"
      ]
    },
    {
      "cell_type": "code",
      "metadata": {
        "id": "kzS0iRpfVGdx"
      },
      "source": [
        ""
      ],
      "execution_count": null,
      "outputs": []
    },
    {
      "cell_type": "markdown",
      "metadata": {
        "id": "IWwJqajVWGFi"
      },
      "source": [
        "從一則新聞報導，提出你對新聞系（OO系）學生為什麼要學「運算思維與程式設計」的見解。（告訴我新聞連結，以及你的觀點即可。）"
      ]
    },
    {
      "cell_type": "markdown",
      "metadata": {
        "id": "kpw4pYkcXRzU"
      },
      "source": [
        "https://technews.tw/2021/02/15/programming-language-becomes-a-technological-trend/"
      ]
    },
    {
      "cell_type": "markdown",
      "metadata": {
        "id": "ijJsZUpVXmFD"
      },
      "source": [
        "疫情襲擊全球，經濟重創的時代，硬體產業似乎沒有重挫不論是半導體、電腦製造，還是電子周邊，受到宅經濟拉升，一連串硬體產業大廠營收或股價攀上新高，程式設計對現代人來說，猶如會用google搜尋引擎一樣是不可或缺的技能。除了可以不受空間限制外，也能跟軟體結合產生更大發展空間。我認為學生真的該學會程式設計，能將自己專業的領域跨至程式設計，便可增加自己的不可取代性。以新聞業為例，要將新聞有效的傳播出去就需要程式設計師的幫忙，若自己能學會這個技能，在職場上一定更暢行無阻。"
      ]
    },
    {
      "cell_type": "code",
      "metadata": {
        "id": "Uq7aJQn1ZSmf"
      },
      "source": [
        ""
      ],
      "execution_count": null,
      "outputs": []
    }
  ]
}