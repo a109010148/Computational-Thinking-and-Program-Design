{
  "nbformat": 4,
  "nbformat_minor": 0,
  "metadata": {
    "kernelspec": {
      "display_name": "Python 3",
      "language": "python",
      "name": "python3"
    },
    "language_info": {
      "codemirror_mode": {
        "name": "ipython",
        "version": 3
      },
      "file_extension": ".py",
      "mimetype": "text/x-python",
      "name": "python",
      "nbconvert_exporter": "python",
      "pygments_lexer": "ipython3",
      "version": "3.8.5"
    },
    "colab": {
      "name": "胡玟惠-Week11-作業.ipynb",
      "provenance": [],
      "collapsed_sections": [],
      "include_colab_link": true
    }
  },
  "cells": [
    {
      "cell_type": "markdown",
      "metadata": {
        "id": "view-in-github",
        "colab_type": "text"
      },
      "source": [
        "<a href=\"https://colab.research.google.com/github/a109010148/Computational-Thinking-and-Program-Design/blob/main/%E8%83%A1%E7%8E%9F%E6%83%A0_Week11_%E4%BD%9C%E6%A5%AD.ipynb\" target=\"_parent\"><img src=\"https://colab.research.google.com/assets/colab-badge.svg\" alt=\"Open In Colab\"/></a>"
      ]
    },
    {
      "cell_type": "markdown",
      "metadata": {
        "id": "chppi7IsxD_A"
      },
      "source": [
        "# 基本程式設計(應用篇)"
      ]
    },
    {
      "cell_type": "markdown",
      "metadata": {
        "id": "oJ0kUu9MxD_I"
      },
      "source": [
        "### 4-2 運算思維四個基石"
      ]
    },
    {
      "cell_type": "markdown",
      "metadata": {
        "id": "olKgC1a4xD_J"
      },
      "source": [
        "#### 4-2-4  問題拆解 - 打造你的聊天機器人"
      ]
    },
    {
      "cell_type": "markdown",
      "metadata": {
        "id": "rqcD1OoXxD_K"
      },
      "source": [
        "「哈囉，大家好。我叫Zyxo64，是一個聊天機器人。\n",
        "\n",
        "在嗜好與興趣方面，我很喜歡美食，也喜歡養動物。\n",
        "\n",
        "很高興有機會來到世新大學，請大家多多指教。\n",
        "\n",
        "嗨！妳好，請問大名？：Francis。\n",
        "\n",
        "Francis，很高興認識你。"
      ]
    },
    {
      "cell_type": "code",
      "metadata": {
        "colab": {
          "base_uri": "https://localhost:8080/"
        },
        "id": "zu0tBBGyxD_K",
        "outputId": "34a9db14-11b8-4c41-9c6d-b93f7b3ee6e3"
      },
      "source": [
        "# 1.聊天機器人自我介紹\n",
        "print(\"哈囉，大家好。我叫pretty baby，是一個喜歡聊天的機器人。\")\n",
        "print(\"在嗜好與興趣方面，我很喜歡美食，也喜歡養動物。\")\n",
        "\n",
        "hello = \"很高興有機會來世新大學，請多多指教。\"\n",
        "print(hello)\n",
        "\n",
        "# 2. 打招呼，取得對方名字\n"
      ],
      "execution_count": 1,
      "outputs": [
        {
          "output_type": "stream",
          "text": [
            "哈囉，大家好。我叫pretty baby，是一個喜歡聊天的機器人。\n",
            "在嗜好與興趣方面，我很喜歡美食，也喜歡養動物。\n",
            "很高興有機會來世新大學，請多多指教。\n"
          ],
          "name": "stdout"
        }
      ]
    },
    {
      "cell_type": "code",
      "metadata": {
        "colab": {
          "base_uri": "https://localhost:8080/"
        },
        "id": "ygqz3bk2y7e0",
        "outputId": "a69651c9-b214-4c67-ab5d-19a7bf5c146b"
      },
      "source": [
        "print(\"嗨!你好。\")\n",
        "name = input(\"請問大名? : \")\n",
        "\n",
        "print(f\"{name}，很高興認識你。\")"
      ],
      "execution_count": 2,
      "outputs": [
        {
          "output_type": "stream",
          "text": [
            "嗨!你好。\n",
            "請問大名? : ella\n",
            "ella，很高興認識你。\n"
          ],
          "name": "stdout"
        }
      ]
    },
    {
      "cell_type": "markdown",
      "metadata": {
        "id": "t3kOXKL9xD_L"
      },
      "source": [
        "抱歉，請問一下今年是西元2021年，那是民國幾年呢？：*110*。\n",
        "\n",
        "對！沒錯，謝謝妳！\n",
        "\n",
        "**Francis**，猜猜看我今年幾歲？ ：**18**。\n",
        "\n",
        "哇！你好聰明，我今年的確*18*。\n",
        "\n",
        "再82年我就100歲了。\n",
        "\n",
        "那時候是西元 2103年，也就是民國192年囉！"
      ]
    },
    {
      "cell_type": "code",
      "metadata": {
        "colab": {
          "base_uri": "https://localhost:8080/"
        },
        "id": "2Hkxv5i_xD_M",
        "outputId": "357e905d-ef41-4b3a-f355-08d16470b3e7"
      },
      "source": [
        "# 3. 數學運算\n",
        "## 3-1 從使用者取得今年年\n",
        "year = input(\"請問今年是西元2021年，那是國幾年呢? \")\n",
        "print(\"對!沒錯，謝謝你! \")\n",
        "\n",
        "## 3-2 請使用者猜年齡\n",
        "age = input(\"猜猜看我今年幾歲? :\")\n",
        "print(f\"哇!你好聰明，我今年的確{age}\")\n",
        "\n",
        "## 3-3 計算聊天機器人滿100歲的年份\n",
        "year = int(year)\n",
        "age = int(age)\n",
        "print(f\"再{100-age}年我就100歲了。\")\n",
        "\n",
        "time = year + 1911 + (100 - age)\n",
        "print(f\"那時候是西元{time}年，也就是民國{time-1911}年囉! \")"
      ],
      "execution_count": 4,
      "outputs": [
        {
          "output_type": "stream",
          "text": [
            "請問今年是西元2021年，那是國幾年呢? 110\n",
            "對!沒錯，謝謝你! \n",
            "猜猜看我今年幾歲? :19\n",
            "哇!你好聰明，我今年的確19\n",
            "再81年我就100歲了。\n",
            "那時候是西元2102年，也就是民國191年囉! \n"
          ],
          "name": "stdout"
        }
      ]
    },
    {
      "cell_type": "markdown",
      "metadata": {
        "id": "3p9hp9bvxD_M"
      },
      "source": [
        "我喜歡吃巧克力，也喜歡嘗試各種新食物。\n",
        "\n",
        "你呢？你最喜歡的食物是什麼？**:披薩**。\n",
        "\n",
        "我也喜歡 *披薩*。\n",
        "\n",
        "你多久吃一次 *披薩*？**：每天**。\n",
        "\n",
        "真有趣。不知道這樣對健康好不好。"
      ]
    },
    {
      "cell_type": "code",
      "metadata": {
        "colab": {
          "base_uri": "https://localhost:8080/"
        },
        "id": "2_ySQDCmxD_M",
        "outputId": "ab2d2770-e159-4441-8810-281dbc7da7a2"
      },
      "source": [
        "# 4 興趣\n",
        "## 4-1 食物話題\n",
        "print(\"我喜歡吃巧克力，也喜歡嘗試各種新食物。\")\n",
        "\n",
        "food = input(\"你呢？你最喜歡的食物是什麼？\")\n",
        "\n",
        "print(\"我也喜歡\", food)\n",
        "question = \"你多久吃一次\" + food + \"?: \"\n",
        "howoften = input(question)\n",
        "print(\"真有趣。不知道這樣對健康好不好！\")\n"
      ],
      "execution_count": 5,
      "outputs": [
        {
          "output_type": "stream",
          "text": [
            "我喜歡吃巧克力，也喜歡嘗試各種新食物。\n",
            "你呢？你最喜歡的食物是什麼？chocolate\n",
            "我也喜歡 chocolate\n",
            "你多久吃一次chocolate?: 1小時\n",
            "真有趣。不知道這樣對健康好不好！\n"
          ],
          "name": "stdout"
        }
      ]
    },
    {
      "cell_type": "markdown",
      "metadata": {
        "id": "eI8vlh8KxD_N"
      },
      "source": [
        "我最喜歡的動物是長頸鹿。你呢？ **：烏龜**。\n",
        "\n",
        "我不喜歡*烏龜*！\n",
        "\n",
        "不知道 *烏龜* 喜不喜歡吃 *披薩*？"
      ]
    },
    {
      "cell_type": "code",
      "metadata": {
        "colab": {
          "base_uri": "https://localhost:8080/"
        },
        "id": "vj6iw9OnxD_N",
        "outputId": "001fc549-0e32-439f-c1a5-0565fb37e874"
      },
      "source": [
        "# 4 興趣\n",
        "## 4-2 動物話題\n",
        "\n",
        "animal = input(\"我最喜歡的動物是長頸鹿 ，你呢?\")\n",
        "print(f\"我不喜歡{animal}!\")\n",
        "print(f\"不知道{animal}喜不喜歡吃{food}?\")"
      ],
      "execution_count": 7,
      "outputs": [
        {
          "output_type": "stream",
          "text": [
            "我最喜歡的動物是長頸鹿 ，你呢?蒙古野馬\n",
            "我不喜歡蒙古野馬!\n",
            "不知道蒙古野馬喜不喜歡吃chocolate?\n"
          ],
          "name": "stdout"
        }
      ]
    },
    {
      "cell_type": "markdown",
      "metadata": {
        "id": "XPFQ14kPxD_N"
      },
      "source": [
        "你今天的心情如何？ **：很開心**。\n",
        "\n",
        "可以告訴我你 *開心* 的原因嗎？**因為週末了！** \n",
        "\n",
        "祝你週末愉快！\n",
        "\n",
        "我喜歡跟你聊天，現在有點累了，改天再聊吧！！\n",
        "\n",
        "再見 *Francis*！"
      ]
    },
    {
      "cell_type": "code",
      "metadata": {
        "colab": {
          "base_uri": "https://localhost:8080/"
        },
        "id": "cfZvC3MZxD_O",
        "outputId": "2ea94337-17b9-4746-9087-4bc6280218fb"
      },
      "source": [
        "# 5. 關於心情的對話\n",
        "\n",
        "mood = input(\"你今天的心情如何?\")\n",
        "print(f\"可以告訴我你{mood}的原因嗎?\")\n",
        "reason = input(\"Why? \")\n",
        "print(\"那真的很可憐! \")"
      ],
      "execution_count": 9,
      "outputs": [
        {
          "output_type": "stream",
          "text": [
            "你今天的心情如何?不好\n",
            "可以告訴我你不好的原因嗎?\n",
            "Why? 我今天走路跌倒\n",
            "那真的很可憐! \n"
          ],
          "name": "stdout"
        }
      ]
    },
    {
      "cell_type": "markdown",
      "metadata": {
        "id": "zulOIpQPxD_O"
      },
      "source": [
        "我喜歡跟你聊天，現在有點累了，改天再聊吧！！\n",
        "\n",
        "再見 *Francis*！"
      ]
    },
    {
      "cell_type": "code",
      "metadata": {
        "colab": {
          "base_uri": "https://localhost:8080/"
        },
        "id": "-rOXoETAxD_O",
        "outputId": "c37efc57-92d5-4912-82c9-4e4985af816a"
      },
      "source": [
        "# 6. 道別\n",
        "print(\"我喜歡跟你聊天，現在有點累了，改天再聊吧!!\")\n",
        "\n",
        "print(f\"再見{name}\")"
      ],
      "execution_count": 10,
      "outputs": [
        {
          "output_type": "stream",
          "text": [
            "我喜歡跟你聊天，現在有點累了，改天再聊吧!!\n",
            "再見ella\n"
          ],
          "name": "stdout"
        }
      ]
    },
    {
      "cell_type": "markdown",
      "metadata": {
        "id": "OoYuOZG6xD_O"
      },
      "source": [
        "## 期末報告"
      ]
    },
    {
      "cell_type": "markdown",
      "metadata": {
        "id": "-n6gCP3bxD_P"
      },
      "source": [
        "### 組長(學號姓名):王慶禾\n",
        "\n"
      ]
    },
    {
      "cell_type": "markdown",
      "metadata": {
        "id": "GzgbDri6xD_P"
      },
      "source": [
        "### 組員(學號姓名):胡玟惠 李昱潼 林維儀\n",
        "\n"
      ]
    },
    {
      "cell_type": "markdown",
      "metadata": {
        "id": "mG-xME2gxD_Q"
      },
      "source": [
        "### 題目:"
      ]
    },
    {
      "cell_type": "markdown",
      "metadata": {
        "id": "SRbxFVLpxD_Q"
      },
      "source": [
        "### 百字腳本\n",
        "\n"
      ]
    }
  ]
}